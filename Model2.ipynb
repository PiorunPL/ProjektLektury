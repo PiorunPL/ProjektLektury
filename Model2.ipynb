{
 "cells": [
  {
   "cell_type": "code",
   "execution_count": 53,
   "id": "3f5a2d80",
   "metadata": {},
   "outputs": [],
   "source": [
    "from ipynb.fs.defs.WordBag import count_percents\n",
    "from ipynb.fs.full.WordBag import create_bag_of_words_from_file\n",
    "from ipynb.fs.defs.WordBag import combine_word_bags"
   ]
  },
  {
   "cell_type": "code",
   "execution_count": 54,
   "id": "1982a985",
   "metadata": {},
   "outputs": [],
   "source": [
    "import re\n",
    "import math\n",
    "import spacy"
   ]
  },
  {
   "cell_type": "code",
   "execution_count": 59,
   "id": "af853179",
   "metadata": {},
   "outputs": [
    {
     "data": {
      "text/plain": [
       "'\\nprzykład użycia\\n'"
      ]
     },
     "execution_count": 59,
     "metadata": {},
     "output_type": "execute_result"
    }
   ],
   "source": [
    "\"\"\"\n",
    "funkcja liczy miarę fragmentu względem całości\n",
    "\"\"\"\n",
    "def calculate_measure(fragment_txt, whole_txt):\n",
    "    fragment = create_bag_of_words_from_file(fragment_txt, True)\n",
    "    whole = create_bag_of_words_from_file(whole_txt, False)\n",
    "    count_percents(fragment)\n",
    "    count_percents(whole)\n",
    "    measure = 0\n",
    "    for i in (fragment.keys()):\n",
    "        if i in whole:\n",
    "            measure += math.sqrt(abs(fragment[i]-whole[i]))\n",
    "        else:\n",
    "            measure += math.sqrt(fragment[i])\n",
    "#     for i in (fragment.keys()):\n",
    "#         print(\"{0} : {1}\".format(i, fragment[i]))\n",
    "    return measure\n",
    "\n",
    "\"\"\"\n",
    "funkcja liczy miarę fragmentu względem połączonych lektur autora\n",
    "\"\"\"\n",
    "def calculate_measures(fragment_txt, combined):\n",
    "    fragment = create_bag_of_words_from_file(fragment_txt, True)\n",
    "    count_percents(fragment)\n",
    "    measures = {}\n",
    "    for author in combined:\n",
    "        count_percents(combined[author])\n",
    "        if author not in measures:\n",
    "            measures[author] = 0\n",
    "        for i in (fragment.keys()):\n",
    "            if i in combined[author]:\n",
    "                measures[author] += math.sqrt(abs(fragment[i]-combined[author][i]))\n",
    "            else:\n",
    "                measures[author] += math.sqrt(fragment[i])\n",
    "#     for i in (fragment.keys()):\n",
    "#         print(\"{0} : {1}\".format(i, fragment[i]))\n",
    "#     print(measures)\n",
    "#     print(combined)\n",
    "    return measures\n",
    "\n",
    "\"\"\"\n",
    "przykład użycia\n",
    "\"\"\"\n",
    "# calculate_measure('fragment.txt', 'testFile1.txt')\n",
    "\n",
    "# bag1 = create_bag_of_words_from_file('testFile1.txt', False)\n",
    "# bag2 = create_bag_of_words_from_file('testFile2.txt', False)\n",
    "# word_bags = []\n",
    "# word_bags.append(bag1)\n",
    "# word_bags.append(bag2)\n",
    "# combined = combine_word_bags(word_bags)\n",
    "\n",
    "# calculate_measures('fragment.txt', combined)"
   ]
  },
  {
   "cell_type": "code",
   "execution_count": 58,
   "id": "366c77c6",
   "metadata": {},
   "outputs": [
    {
     "data": {
      "text/plain": [
       "'\\nprzykład użycia\\n'"
      ]
     },
     "execution_count": 58,
     "metadata": {},
     "output_type": "execute_result"
    }
   ],
   "source": [
    "\"\"\"\n",
    "funkcja zwraca najbardziej prawdopodobnego autora, czyli takiego, przy którym miara jest najmniejsza\n",
    "\"\"\"\n",
    "def find_possible_author(fragment_txt):\n",
    "    measures = calculate_measures(fragment_txt, combined)\n",
    "    min = math.inf\n",
    "    for author in measures:\n",
    "        if (measures[author] < min):\n",
    "            min = measures[author]\n",
    "            possible_author = author\n",
    "    return possible_author\n",
    "\n",
    "\"\"\"\n",
    "przykład użycia\n",
    "\"\"\"\n",
    "# bag1 = create_bag_of_words_from_file('testFile1.txt', False)\n",
    "# bag2 = create_bag_of_words_from_file('testFile2.txt', False)\n",
    "# word_bags = []\n",
    "# word_bags.append(bag1)\n",
    "# word_bags.append(bag2)\n",
    "# combined = combine_word_bags(word_bags)\n",
    "\n",
    "# find_possible_author('fragment.txt')"
   ]
  }
 ],
 "metadata": {
  "kernelspec": {
   "display_name": "Python 3",
   "language": "python",
   "name": "python3"
  },
  "language_info": {
   "codemirror_mode": {
    "name": "ipython",
    "version": 3
   },
   "file_extension": ".py",
   "mimetype": "text/x-python",
   "name": "python",
   "nbconvert_exporter": "python",
   "pygments_lexer": "ipython3",
   "version": "3.8.8"
  }
 },
 "nbformat": 4,
 "nbformat_minor": 5
}
