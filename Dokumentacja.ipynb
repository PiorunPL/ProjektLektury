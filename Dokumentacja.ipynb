{
 "cells": [
  {
   "cell_type": "markdown",
   "id": "9f8a7c01",
   "metadata": {},
   "source": [
    "<i> Projekt zespołowy, Podstawy reprezentacji i analizy danych, Informatyka Stosowana 2021L/2022Z, Politechnika Warszawska </i>"
   ]
  },
  {
   "cell_type": "markdown",
   "id": "544bf350",
   "metadata": {},
   "source": [
    "# Rozpoznawanie autora utworu literackiego na podstawie treści utworu z wykorzystaniem worka słów"
   ]
  },
  {
   "cell_type": "markdown",
   "id": "870f326b",
   "metadata": {},
   "source": [
    "* Autorzy: Jakub Maciejewski, Michał Ziober, Maja Nagarnowicz, Miłosz Moroz\n",
    "* <a href=\"https://github.com/PiorunPL/ProjektLektury\" >Repozytorium projektu</a>"
   ]
  },
  {
   "cell_type": "markdown",
   "id": "8d407394",
   "metadata": {},
   "source": [
    "## Cel projektu"
   ]
  },
  {
   "cell_type": "markdown",
   "id": "e1679f74",
   "metadata": {},
   "source": [
    "Celem projektu było stworzenie programu, który na podstawie wybranego fragmentu utworu literackiego rozpozna jego autora. \n",
    "\n",
    "Program jest w stanie oszacować pradopodobieństwo przynależności danego fragmentu tesktu do jednego z wybranych przez nas autorów:\n",
    " * Adam Mickiewicz\n",
    " * Juliusz Słowacki  \n",
    " * Krzysztof Kamil Baczyński  \n",
    " * Henryk Sienkiewicz   \n",
    " * Bolesław Prus  \n",
    " * Aleksander Fredro   \n",
    " * Maria Konopnicka\n",
    " * Jan Kochanowski   \n",
    " * Tadeusz Borowski   \n",
    " * Sofokles    \n",
    " * Stefan Żeromski"
   ]
  },
  {
   "cell_type": "markdown",
   "id": "5ef387d1",
   "metadata": {},
   "source": [
    "## Worek słów"
   ]
  },
  {
   "cell_type": "markdown",
   "id": "6592d5f8",
   "metadata": {},
   "source": [
    "Dla każdego z powyższych autorów wybraliśmy po kilka stworzonych przez niego utworów \n",
    "(<a href=\"https://wolnelektury.pl/\" >źródło utworów</a>, listę wybranych utworów można znaleźć w pliku `FileDownloader.ipynb` w  <a href=\"https://github.com/PiorunPL/ProjektLektury\" >naszym repozytorium</a>), a następnie na podstawie tych tekstów utworzyliśmy worek słów odpowiadający tym autorom (informacja o słowach, które wystąpiły w danych utworach autora oraz przyporządkowana im liczba wystąpień - suma dla wszystkich tekstów).\n",
    "\n",
    "Worki te można znaleźc w katalogu `/Bags`."
   ]
  },
  {
   "cell_type": "markdown",
   "id": "af06b612",
   "metadata": {},
   "source": [
    "## Dopasowywanie fragmentu do autora"
   ]
  },
  {
   "cell_type": "markdown",
   "id": "0cdf907d",
   "metadata": {},
   "source": [
    "Procedura dopasowania przekazanego fragmentu utworu literackiego do konkretnego autora:\n",
    "1. **Tworzymy worek słów dla podanego fragmentu utworu literackiego**\n",
    "2. **Analizujemy procentowe występowanie słów w danym fragmencie** - dla każdego słowa przyporządkowujemy jego częstość występowania w danym fragmencie\n",
    "(gdzie częstość wystąpienia to iloraz liczby wystąpień słowa w tekście i sumy wystąpień wszystkich słów w tekście)\n",
    "3. **Dla każdego słowa z worka słów poszczególnego autora obliczamy częstość jego wystąpienia**\n",
    "(gdzie częstość wystąpienia to iloraz liczby wystąpień słowa w wybranych utworach autora i sumy wystąpień wszystkich słów w utworach autora)\n",
    "4. **Liczymy odległości pomiędzy procentową częstością wystąpień słów w przekazanym fragmencie oraz częstością wystąpień tych samych słów we wszystkich wybranych tekstach danego autora**, gdzie odległość to wartość bezwględna z różnicy tych częstości dla danego słowa\n",
    "5. **Dla każdego autora sumujemy otrzymane odległości**\n",
    "6. **Na podstawie tych sum szacujemy prawdopodobieństwo przynależności danego fragmentu tekstu do jednego z autorów**"
   ]
  },
  {
   "cell_type": "markdown",
   "id": "1595474d",
   "metadata": {},
   "source": [
    "## Wykorzystane modele"
   ]
  },
  {
   "cell_type": "markdown",
   "id": "d4fb1a74",
   "metadata": {},
   "source": [
    "W naszym projekcie wykorzystaliśmy kilka modeli wyznaczania najbardziej prawdopodobnego autora fragmentu:\n",
    "\n",
    "1. **Model pierwszy** - \n",
    "2. **Model drugi** - \n",
    "3. **Model trzeci** - \n",
    "4. **Model czwarty** - \n",
    "5. **Model piąty** - \n",
    "6. **Model szósty** - "
   ]
  },
  {
   "cell_type": "markdown",
   "id": "6caaf883",
   "metadata": {},
   "source": [
    "## Struktura projektu"
   ]
  },
  {
   "cell_type": "markdown",
   "id": "917715c5",
   "metadata": {},
   "source": [
    "Omówimy teraz strukturę plików w <a href=\"https://github.com/PiorunPL/ProjektLektury\" >naszym repozytorium</a>:\n",
    "\n",
    "* Foldery w repozytorium:\n",
    "    * `/Bags`\n",
    "        * `/BagOfWords_noStopWords_Lemma`\n",
    "        * `/BagOfWords_noStopWords_NotLemma`\n",
    "        * `/BagOfWords_withStopWords_Lemma`\n",
    "        * `/BagOfWords_withStopWords_NotLemma`\n",
    "    * `/Fragments`\n",
    "\n",
    "\n",
    "* Pliki w repozytorium\n",
    "    * `Dokumentacja.ipynb` - dokumentacja projektu\n",
    "    * `FileDownloader.ipynb`\n",
    "    * `Measures.ipynb`\n",
    "    * `Model1.ipynb`\n",
    "    * `WordBag.ipynb`\n",
    "    * `stopWords.txt`\n"
   ]
  },
  {
   "cell_type": "markdown",
   "id": "8ecd97af",
   "metadata": {},
   "source": [
    "## Analiza wyników i wnioski"
   ]
  },
  {
   "cell_type": "code",
   "execution_count": null,
   "id": "4549f767",
   "metadata": {},
   "outputs": [],
   "source": []
  }
 ],
 "metadata": {
  "kernelspec": {
   "display_name": "Python 3",
   "language": "python",
   "name": "python3"
  },
  "language_info": {
   "codemirror_mode": {
    "name": "ipython",
    "version": 3
   },
   "file_extension": ".py",
   "mimetype": "text/x-python",
   "name": "python",
   "nbconvert_exporter": "python",
   "pygments_lexer": "ipython3",
   "version": "3.8.8"
  }
 },
 "nbformat": 4,
 "nbformat_minor": 5
}
